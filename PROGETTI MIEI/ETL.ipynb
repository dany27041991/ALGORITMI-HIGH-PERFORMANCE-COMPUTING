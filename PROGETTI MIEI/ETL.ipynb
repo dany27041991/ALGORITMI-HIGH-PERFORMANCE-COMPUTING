{
 "cells": [
  {
   "cell_type": "code",
   "execution_count": null,
   "metadata": {},
   "outputs": [],
   "source": [
    "from csv import reader\n",
    "from csv import writer\n",
    "\n",
    "def sumCases_province(input_file, output_file):\n",
    "    with open(input_file, \"r\") as read_obj, open(output_file,'w',newline='') as write_obj:\n",
    "        csv_reader = reader(read_obj)\n",
    "        csv_writer = writer(write_obj)\n",
    "               \n",
    "        lines=[]\n",
    "        for line in csv_reader:\n",
    "            lines.append(line)    \n",
    "\n",
    "        i=0\n",
    "        ix=0\n",
    "        for i in range(0,len(lines[:])-1):\n",
    "            if lines[i][1]==lines[i+1][1]:\n",
    "                if ix==0:\n",
    "                    ix=i\n",
    "                lines[ix][4:] = np.asfarray(lines[ix][4:],float)+np.asfarray(lines[i+1][4:] ,float)\n",
    "            else:\n",
    "                if not ix==0:\n",
    "                    lines[ix][0]=\"\"\n",
    "                    csv_writer.writerow(lines[ix])\n",
    "                    ix=0\n",
    "                else:\n",
    "                    csv_writer.writerow(lines[i])\n",
    "            i+=1    \n",
    "            \n",
    "            \n",
    "sumCases_province('data/time_series_covid19_confirmed_global.csv', 'data/time_series_19-covid-Confirmed-country.csv')\n",
    "sumCases_province('data/time_series_covid19_recovered_global.csv', 'data/time_series_19-covid-Recovered-country.csv')\n",
    "sumCases_province('data/time_series_covid19_deaths_global.csv', 'data/time_series_19-covid-Deaths-country.csv')"
   ]
  },
  {
   "cell_type": "code",
   "execution_count": null,
   "metadata": {},
   "outputs": [],
   "source": []
  },
  {
   "cell_type": "code",
   "execution_count": 1,
   "metadata": {},
   "outputs": [
    {
     "name": "stdout",
     "output_type": "stream",
     "text": [
      "{'_filled': False,\n",
      " 'affiliation': 'Vision Scientist',\n",
      " 'citedby': 269,\n",
      " 'email': '@berkeley.edu',\n",
      " 'id': '4bahYMkAAAAJ',\n",
      " 'interests': ['Depth Cues',\n",
      "               '3D Shape',\n",
      "               'Shape from Texture & Shading',\n",
      "               'Naive Physics',\n",
      "               'Haptics'],\n",
      " 'name': 'Steven A. Cholewiak, PhD',\n",
      " 'url_picture': 'https://scholar.google.com/citations?view_op=medium_photo&user=4bahYMkAAAAJ'}\n"
     ]
    }
   ],
   "source": [
    "from scholarly import scholarly\n",
    "\n",
    "print(next(scholarly.search_author('Steven A. Cholewiak')))"
   ]
  },
  {
   "cell_type": "code",
   "execution_count": null,
   "metadata": {},
   "outputs": [],
   "source": []
  }
 ],
 "metadata": {
  "kernelspec": {
   "display_name": "Python 3",
   "language": "python",
   "name": "python3"
  },
  "language_info": {
   "codemirror_mode": {
    "name": "ipython",
    "version": 3
   },
   "file_extension": ".py",
   "mimetype": "text/x-python",
   "name": "python",
   "nbconvert_exporter": "python",
   "pygments_lexer": "ipython3",
   "version": "3.7.7"
  }
 },
 "nbformat": 4,
 "nbformat_minor": 4
}
