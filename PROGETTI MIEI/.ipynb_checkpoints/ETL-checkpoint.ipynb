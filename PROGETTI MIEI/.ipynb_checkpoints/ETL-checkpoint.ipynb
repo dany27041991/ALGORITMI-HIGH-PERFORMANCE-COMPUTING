{
 "cells": [
  {
   "cell_type": "code",
   "execution_count": null,
   "metadata": {},
   "outputs": [],
   "source": [
    "from csv import reader\n",
    "from csv import writer\n",
    "\n",
    "def sumCases_province(input_file, output_file):\n",
    "    with open(input_file, \"r\") as read_obj, open(output_file,'w',newline='') as write_obj:\n",
    "        csv_reader = reader(read_obj)\n",
    "        csv_writer = writer(write_obj)\n",
    "               \n",
    "        lines=[]\n",
    "        for line in csv_reader:\n",
    "            lines.append(line)    \n",
    "\n",
    "        i=0\n",
    "        ix=0\n",
    "        for i in range(0,len(lines[:])-1):\n",
    "            if lines[i][1]==lines[i+1][1]:\n",
    "                if ix==0:\n",
    "                    ix=i\n",
    "                lines[ix][4:] = np.asfarray(lines[ix][4:],float)+np.asfarray(lines[i+1][4:] ,float)\n",
    "            else:\n",
    "                if not ix==0:\n",
    "                    lines[ix][0]=\"\"\n",
    "                    csv_writer.writerow(lines[ix])\n",
    "                    ix=0\n",
    "                else:\n",
    "                    csv_writer.writerow(lines[i])\n",
    "            i+=1    \n",
    "            \n",
    "            \n",
    "sumCases_province('data/time_series_covid19_confirmed_global.csv', 'data/time_series_19-covid-Confirmed-country.csv')\n",
    "sumCases_province('data/time_series_covid19_recovered_global.csv', 'data/time_series_19-covid-Recovered-country.csv')\n",
    "sumCases_province('data/time_series_covid19_deaths_global.csv', 'data/time_series_19-covid-Deaths-country.csv')"
   ]
  },
  {
   "cell_type": "code",
   "execution_count": 9,
   "metadata": {},
   "outputs": [
    {
     "ename": "ImportError",
     "evalue": "cannot import name 'Chrome' from 'selenium' (/Users/danilogiovannico/opt/anaconda3/lib/python3.7/site-packages/selenium/__init__.py)",
     "output_type": "error",
     "traceback": [
      "\u001b[0;31m---------------------------------------------------------------------------\u001b[0m",
      "\u001b[0;31mImportError\u001b[0m                               Traceback (most recent call last)",
      "\u001b[0;32m<ipython-input-9-66e30d1fb902>\u001b[0m in \u001b[0;36m<module>\u001b[0;34m\u001b[0m\n\u001b[0;32m----> 1\u001b[0;31m \u001b[0;32mfrom\u001b[0m \u001b[0mselenium\u001b[0m \u001b[0;32mimport\u001b[0m \u001b[0mChrome\u001b[0m\u001b[0;34m\u001b[0m\u001b[0;34m\u001b[0m\u001b[0m\n\u001b[0m\u001b[1;32m      2\u001b[0m \u001b[0;32mimport\u001b[0m \u001b[0mpandas\u001b[0m \u001b[0;32mas\u001b[0m \u001b[0mpd\u001b[0m\u001b[0;34m\u001b[0m\u001b[0;34m\u001b[0m\u001b[0m\n\u001b[1;32m      3\u001b[0m \u001b[0;34m\u001b[0m\u001b[0m\n\u001b[1;32m      4\u001b[0m \u001b[0mwebdriver\u001b[0m \u001b[0;34m=\u001b[0m \u001b[0;34m\"/Users/danilogiovannico/Desktop/ALGORITMI HIGH PERFORMANCE COMPUTING/PROGETTI MIEI/chromedriver\"\u001b[0m\u001b[0;34m\u001b[0m\u001b[0;34m\u001b[0m\u001b[0m\n\u001b[1;32m      5\u001b[0m \u001b[0;34m\u001b[0m\u001b[0m\n",
      "\u001b[0;31mImportError\u001b[0m: cannot import name 'Chrome' from 'selenium' (/Users/danilogiovannico/opt/anaconda3/lib/python3.7/site-packages/selenium/__init__.py)"
     ]
    }
   ],
   "source": [
    "from selenium.webdriver import Chrome\n",
    "import pandas as pd\n",
    "\n",
    "webdriver = \"/Users/danilogiovannico/Desktop/ALGORITMI HIGH PERFORMANCE COMPUTING/PROGETTI MIEI/chromedriver\"\n",
    "\n",
    "driver = Chrome(webdriver)\n",
    "\n",
    "from selenium.webdriver import Firefox\n",
    "pages = 10\n",
    "\n",
    "for page in range(1,pages):\n",
    "\n",
    "    url = \"http://quotes.toscrape.com/js/page/\" + str(page) + \"/\"\n",
    "\n",
    "    driver.get(url)\n",
    "\n",
    "    items = len(driver.find_elements_by_class_name(\"quote\"))\n",
    "\n",
    "    total = []\n",
    "    for item in range(items):\n",
    "        quotes = driver.find_elements_by_class_name(\"quote\")\n",
    "        for quote in quotes:\n",
    "            quote_text = quote.find_element_by_class_name('text').text\n",
    "            author = quote.find_element_by_class_name('author').text\n",
    "            new = ((quote_text,author))\n",
    "            total.append(new)\n",
    "    df = pd.DataFrame(total,columns=['quote','author'])\n",
    "    df.to_csv('quoted.csv')\n",
    "driver.close()"
   ]
  },
  {
   "cell_type": "code",
   "execution_count": null,
   "metadata": {},
   "outputs": [],
   "source": []
  }
 ],
 "metadata": {
  "kernelspec": {
   "display_name": "Python 3",
   "language": "python",
   "name": "python3"
  },
  "language_info": {
   "codemirror_mode": {
    "name": "ipython",
    "version": 3
   },
   "file_extension": ".py",
   "mimetype": "text/x-python",
   "name": "python",
   "nbconvert_exporter": "python",
   "pygments_lexer": "ipython3",
   "version": "3.7.6"
  }
 },
 "nbformat": 4,
 "nbformat_minor": 4
}
