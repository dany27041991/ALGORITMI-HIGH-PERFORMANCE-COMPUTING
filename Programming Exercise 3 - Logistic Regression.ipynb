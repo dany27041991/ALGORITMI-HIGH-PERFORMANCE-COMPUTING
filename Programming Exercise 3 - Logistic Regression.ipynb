{
 "cells": [
  {
   "cell_type": "markdown",
   "metadata": {},
   "source": [
    "## Programming Exercise 2 - Logistic Regression\n",
    "\n",
    "- [Logistic regression](#Logistic-regression)\n",
    "- [Regularized logistic regression](#Regularized-logistic-regression)"
   ]
  },
  {
   "cell_type": "code",
   "execution_count": 1,
   "metadata": {
    "ExecuteTime": {
     "end_time": "2020-05-21T09:50:24.762238Z",
     "start_time": "2020-05-21T09:50:22.635455Z"
    }
   },
   "outputs": [],
   "source": [
    "# %load ../../standard_import.txt\n",
    "import pandas as pd\n",
    "import numpy as np\n",
    "import matplotlib as mpl\n",
    "import matplotlib.pyplot as plt\n",
    "from scipy.optimize import minimize\n",
    "from sklearn.preprocessing import PolynomialFeatures\n",
    "\n",
    "pd.set_option('display.notebook_repr_html', False)\n",
    "pd.set_option('display.max_columns', None)\n",
    "pd.set_option('display.max_rows', 150)\n",
    "pd.set_option('display.max_seq_items', None)\n",
    " \n",
    "#%config InlineBackend.figure_formats = {'pdf',}\n",
    "%matplotlib inline\n",
    "\n",
    "import seaborn as sns\n",
    "sns.set_context('notebook')\n",
    "sns.set_style('white')"
   ]
  },
  {
   "cell_type": "code",
   "execution_count": 2,
   "metadata": {
    "ExecuteTime": {
     "end_time": "2020-05-21T09:50:24.766606Z",
     "start_time": "2020-05-21T09:50:24.763871Z"
    }
   },
   "outputs": [],
   "source": [
    "def loaddata(file, delimeter):\n",
    "    data = np.loadtxt(file, delimiter=delimeter)\n",
    "    print('Dimensions: ', data.shape)\n",
    "    print(data[: 5,:])\n",
    "    return data"
   ]
  },
  {
   "cell_type": "code",
   "execution_count": 3,
   "metadata": {
    "ExecuteTime": {
     "end_time": "2020-05-21T09:50:24.773576Z",
     "start_time": "2020-05-21T09:50:24.768778Z"
    }
   },
   "outputs": [],
   "source": [
    "def plotData(data, label_x, label_y, label_pos, label_neg, axes=None):\n",
    "    # Get indexes for class 0 and class 1\n",
    "    neg = data[:, 2] == 0 # negative class\n",
    "    pos = data[:, 2] == 1 # positive class\n",
    "    \n",
    "    # If no specific axes object has been passed, get the current axes.\n",
    "    if axes == None:\n",
    "        axes = plt.gca()\n",
    "        \n",
    "    axes.scatter(data[pos][:,0], data[pos][:,1], marker='+', c='k', s=60, linewidth=2, label=label_pos)\n",
    "    axes.scatter(data[neg][:,0], data[neg][:,1], c='y', s=60, label=label_neg)\n",
    "    axes.set_xlabel(label_x)\n",
    "    axes.set_ylabel(label_y)\n",
    "    axes.legend(frameon= True, fancybox = True)"
   ]
  },
  {
   "cell_type": "markdown",
   "metadata": {},
   "source": [
    "## Logistic regression"
   ]
  },
  {
   "cell_type": "code",
   "execution_count": 4,
   "metadata": {
    "ExecuteTime": {
     "end_time": "2020-05-21T09:50:24.783682Z",
     "start_time": "2020-05-21T09:50:24.775774Z"
    }
   },
   "outputs": [
    {
     "name": "stdout",
     "output_type": "stream",
     "text": [
      "Dimensions:  (100, 3)\n",
      "[[34.62365962 78.02469282  0.        ]\n",
      " [30.28671077 43.89499752  0.        ]\n",
      " [35.84740877 72.90219803  0.        ]\n",
      " [60.18259939 86.3085521   1.        ]\n",
      " [79.03273605 75.34437644  1.        ]]\n"
     ]
    }
   ],
   "source": [
    "data = loaddata('data/ex2data1.txt', ',')"
   ]
  },
  {
   "cell_type": "code",
   "execution_count": 5,
   "metadata": {
    "ExecuteTime": {
     "end_time": "2020-05-21T09:50:24.789213Z",
     "start_time": "2020-05-21T09:50:24.785687Z"
    }
   },
   "outputs": [],
   "source": [
    "X = np.c_[np.ones((data.shape[0],1)), data[:, 0], data[:, 1]]\n",
    "y = data[:,2].reshape(-1,1)"
   ]
  },
  {
   "cell_type": "code",
   "execution_count": 6,
   "metadata": {
    "ExecuteTime": {
     "end_time": "2020-05-21T09:50:24.795080Z",
     "start_time": "2020-05-21T09:50:24.791794Z"
    }
   },
   "outputs": [
    {
     "name": "stdout",
     "output_type": "stream",
     "text": [
      "(100, 3) (100, 1)\n"
     ]
    }
   ],
   "source": [
    "print(X.shape, y.shape)"
   ]
  },
  {
   "cell_type": "code",
   "execution_count": 7,
   "metadata": {
    "ExecuteTime": {
     "end_time": "2020-05-21T09:50:24.812935Z",
     "start_time": "2020-05-21T09:50:24.798656Z"
    }
   },
   "outputs": [
    {
     "data": {
      "text/plain": [
       "array([[ 1.        , 34.62365962, 78.02469282],\n",
       "       [ 1.        , 30.28671077, 43.89499752],\n",
       "       [ 1.        , 35.84740877, 72.90219803],\n",
       "       [ 1.        , 60.18259939, 86.3085521 ],\n",
       "       [ 1.        , 79.03273605, 75.34437644],\n",
       "       [ 1.        , 45.08327748, 56.31637178],\n",
       "       [ 1.        , 61.10666454, 96.51142588],\n",
       "       [ 1.        , 75.02474557, 46.55401354],\n",
       "       [ 1.        , 76.0987867 , 87.42056972],\n",
       "       [ 1.        , 84.43281996, 43.53339331],\n",
       "       [ 1.        , 95.86155507, 38.22527806],\n",
       "       [ 1.        , 75.01365839, 30.60326323],\n",
       "       [ 1.        , 82.30705337, 76.4819633 ],\n",
       "       [ 1.        , 69.36458876, 97.71869196],\n",
       "       [ 1.        , 39.53833914, 76.03681085],\n",
       "       [ 1.        , 53.97105215, 89.20735014],\n",
       "       [ 1.        , 69.07014406, 52.74046973],\n",
       "       [ 1.        , 67.94685548, 46.67857411],\n",
       "       [ 1.        , 70.66150955, 92.92713789],\n",
       "       [ 1.        , 76.97878373, 47.57596365],\n",
       "       [ 1.        , 67.37202755, 42.83843832],\n",
       "       [ 1.        , 89.67677575, 65.79936593],\n",
       "       [ 1.        , 50.53478829, 48.85581153],\n",
       "       [ 1.        , 34.21206098, 44.2095286 ],\n",
       "       [ 1.        , 77.92409145, 68.97235999],\n",
       "       [ 1.        , 62.27101367, 69.95445795],\n",
       "       [ 1.        , 80.19018075, 44.82162893],\n",
       "       [ 1.        , 93.1143888 , 38.80067034],\n",
       "       [ 1.        , 61.83020602, 50.25610789],\n",
       "       [ 1.        , 38.7858038 , 64.99568096],\n",
       "       [ 1.        , 61.37928945, 72.80788731],\n",
       "       [ 1.        , 85.40451939, 57.05198398],\n",
       "       [ 1.        , 52.10797973, 63.12762377],\n",
       "       [ 1.        , 52.04540477, 69.43286012],\n",
       "       [ 1.        , 40.23689374, 71.16774802],\n",
       "       [ 1.        , 54.63510555, 52.21388588],\n",
       "       [ 1.        , 33.91550011, 98.86943574],\n",
       "       [ 1.        , 64.17698887, 80.90806059],\n",
       "       [ 1.        , 74.78925296, 41.57341523],\n",
       "       [ 1.        , 34.18364003, 75.23772034],\n",
       "       [ 1.        , 83.90239366, 56.30804622],\n",
       "       [ 1.        , 51.54772027, 46.85629026],\n",
       "       [ 1.        , 94.44336777, 65.56892161],\n",
       "       [ 1.        , 82.36875376, 40.61825516],\n",
       "       [ 1.        , 51.04775177, 45.82270146],\n",
       "       [ 1.        , 62.22267576, 52.06099195],\n",
       "       [ 1.        , 77.19303493, 70.4582    ],\n",
       "       [ 1.        , 97.77159928, 86.72782233],\n",
       "       [ 1.        , 62.0730638 , 96.76882412],\n",
       "       [ 1.        , 91.5649745 , 88.69629255],\n",
       "       [ 1.        , 79.94481794, 74.16311935],\n",
       "       [ 1.        , 99.27252693, 60.999031  ],\n",
       "       [ 1.        , 90.54671411, 43.39060181],\n",
       "       [ 1.        , 34.52451385, 60.39634246],\n",
       "       [ 1.        , 50.28649612, 49.80453881],\n",
       "       [ 1.        , 49.58667722, 59.80895099],\n",
       "       [ 1.        , 97.64563396, 68.86157272],\n",
       "       [ 1.        , 32.57720017, 95.59854761],\n",
       "       [ 1.        , 74.24869137, 69.82457123],\n",
       "       [ 1.        , 71.79646206, 78.45356225],\n",
       "       [ 1.        , 75.39561147, 85.75993667],\n",
       "       [ 1.        , 35.28611282, 47.02051395],\n",
       "       [ 1.        , 56.2538175 , 39.26147251],\n",
       "       [ 1.        , 30.05882245, 49.59297387],\n",
       "       [ 1.        , 44.66826172, 66.45008615],\n",
       "       [ 1.        , 66.56089447, 41.09209808],\n",
       "       [ 1.        , 40.45755098, 97.53518549],\n",
       "       [ 1.        , 49.07256322, 51.88321182],\n",
       "       [ 1.        , 80.27957401, 92.11606081],\n",
       "       [ 1.        , 66.74671857, 60.99139403],\n",
       "       [ 1.        , 32.72283304, 43.30717306],\n",
       "       [ 1.        , 64.03932042, 78.03168802],\n",
       "       [ 1.        , 72.34649423, 96.22759297],\n",
       "       [ 1.        , 60.45788574, 73.0949981 ],\n",
       "       [ 1.        , 58.84095622, 75.85844831],\n",
       "       [ 1.        , 99.8278578 , 72.36925193],\n",
       "       [ 1.        , 47.26426911, 88.475865  ],\n",
       "       [ 1.        , 50.4581598 , 75.80985953],\n",
       "       [ 1.        , 60.45555629, 42.50840944],\n",
       "       [ 1.        , 82.22666158, 42.71987854],\n",
       "       [ 1.        , 88.91389642, 69.8037889 ],\n",
       "       [ 1.        , 94.83450672, 45.6943068 ],\n",
       "       [ 1.        , 67.31925747, 66.58935318],\n",
       "       [ 1.        , 57.23870632, 59.51428198],\n",
       "       [ 1.        , 80.366756  , 90.9601479 ],\n",
       "       [ 1.        , 68.46852179, 85.5943071 ],\n",
       "       [ 1.        , 42.07545454, 78.844786  ],\n",
       "       [ 1.        , 75.47770201, 90.424539  ],\n",
       "       [ 1.        , 78.63542435, 96.64742717],\n",
       "       [ 1.        , 52.34800399, 60.76950526],\n",
       "       [ 1.        , 94.09433113, 77.15910509],\n",
       "       [ 1.        , 90.44855097, 87.50879176],\n",
       "       [ 1.        , 55.48216114, 35.57070347],\n",
       "       [ 1.        , 74.49269242, 84.84513685],\n",
       "       [ 1.        , 89.84580671, 45.35828361],\n",
       "       [ 1.        , 83.48916274, 48.3802858 ],\n",
       "       [ 1.        , 42.26170081, 87.10385094],\n",
       "       [ 1.        , 99.31500881, 68.77540947],\n",
       "       [ 1.        , 55.34001756, 64.93193801],\n",
       "       [ 1.        , 74.775893  , 89.5298129 ]])"
      ]
     },
     "execution_count": 7,
     "metadata": {},
     "output_type": "execute_result"
    }
   ],
   "source": [
    "X"
   ]
  },
  {
   "cell_type": "code",
   "execution_count": 8,
   "metadata": {
    "ExecuteTime": {
     "end_time": "2020-05-21T09:50:24.826095Z",
     "start_time": "2020-05-21T09:50:24.817264Z"
    }
   },
   "outputs": [
    {
     "data": {
      "text/plain": [
       "array([[0.],\n",
       "       [0.],\n",
       "       [0.],\n",
       "       [1.],\n",
       "       [1.],\n",
       "       [0.],\n",
       "       [1.],\n",
       "       [1.],\n",
       "       [1.],\n",
       "       [1.],\n",
       "       [0.],\n",
       "       [0.],\n",
       "       [1.],\n",
       "       [1.],\n",
       "       [0.],\n",
       "       [1.],\n",
       "       [1.],\n",
       "       [0.],\n",
       "       [1.],\n",
       "       [1.],\n",
       "       [0.],\n",
       "       [1.],\n",
       "       [0.],\n",
       "       [0.],\n",
       "       [1.],\n",
       "       [1.],\n",
       "       [1.],\n",
       "       [0.],\n",
       "       [0.],\n",
       "       [0.],\n",
       "       [1.],\n",
       "       [1.],\n",
       "       [0.],\n",
       "       [1.],\n",
       "       [0.],\n",
       "       [0.],\n",
       "       [0.],\n",
       "       [1.],\n",
       "       [0.],\n",
       "       [0.],\n",
       "       [1.],\n",
       "       [0.],\n",
       "       [1.],\n",
       "       [0.],\n",
       "       [0.],\n",
       "       [0.],\n",
       "       [1.],\n",
       "       [1.],\n",
       "       [1.],\n",
       "       [1.],\n",
       "       [1.],\n",
       "       [1.],\n",
       "       [1.],\n",
       "       [0.],\n",
       "       [0.],\n",
       "       [0.],\n",
       "       [1.],\n",
       "       [0.],\n",
       "       [1.],\n",
       "       [1.],\n",
       "       [1.],\n",
       "       [0.],\n",
       "       [0.],\n",
       "       [0.],\n",
       "       [0.],\n",
       "       [0.],\n",
       "       [1.],\n",
       "       [0.],\n",
       "       [1.],\n",
       "       [1.],\n",
       "       [0.],\n",
       "       [1.],\n",
       "       [1.],\n",
       "       [1.],\n",
       "       [1.],\n",
       "       [1.],\n",
       "       [1.],\n",
       "       [1.],\n",
       "       [0.],\n",
       "       [0.],\n",
       "       [1.],\n",
       "       [1.],\n",
       "       [1.],\n",
       "       [1.],\n",
       "       [1.],\n",
       "       [1.],\n",
       "       [0.],\n",
       "       [1.],\n",
       "       [1.],\n",
       "       [0.],\n",
       "       [1.],\n",
       "       [1.],\n",
       "       [0.],\n",
       "       [1.],\n",
       "       [1.],\n",
       "       [1.],\n",
       "       [1.],\n",
       "       [1.],\n",
       "       [1.],\n",
       "       [1.]])"
      ]
     },
     "execution_count": 8,
     "metadata": {},
     "output_type": "execute_result"
    }
   ],
   "source": [
    "y"
   ]
  },
  {
   "cell_type": "code",
   "execution_count": 9,
   "metadata": {
    "ExecuteTime": {
     "end_time": "2020-05-21T09:50:25.335513Z",
     "start_time": "2020-05-21T09:50:24.828624Z"
    }
   },
   "outputs": [
    {
     "data": {
      "image/png": "[encoded data removed]",
      "text/plain": [
       "<Figure size 432x288 with 1 Axes>"
      ]
     },
     "metadata": {},
     "output_type": "display_data"
    }
   ],
   "source": [
    "plotData(data, 'Exam 1 score', 'Exam 2 score', 'Admitted', 'Not admitted')"
   ]
  },
  {
   "cell_type": "markdown",
   "metadata": {},
   "source": [
    "## Logistic regression hypothesis\n",
    "\n",
    "$$ \\large h_{\\theta}(X) = g(\\theta_0 + \\theta_1 x_1 + \\theta_2 x_2)$$\n",
    "\n",
    "$$ \\large h_{\\theta}(X) = \\frac{1}{1+e^{−(\\theta_0 + \\theta_1 x_1 + \\theta_2 x_2)}}$$"
   ]
  },
  {
   "cell_type": "code",
   "execution_count": 10,
   "metadata": {
    "ExecuteTime": {
     "end_time": "2020-05-21T09:50:25.341858Z",
     "start_time": "2020-05-21T09:50:25.338505Z"
    }
   },
   "outputs": [],
   "source": [
    "def sigmoid(z):\n",
    "    return(1 / (1 + np.exp(-z)))"
   ]
  },
  {
   "cell_type": "markdown",
   "metadata": {},
   "source": [
    "Scipy actually has a convenience function which does exactly the same:<BR>\n",
    "http://docs.scipy.org/doc/scipy/reference/generated/scipy.special.expit.html#scipy.special.expit"
   ]
  },
  {
   "cell_type": "markdown",
   "metadata": {},
   "source": [
    "## Cost Function (Binary Cross-entropy)\n",
    "\n",
    "$$ \\large J(\\theta) = \\frac{1}{m}\\sum_{i=1}^{m}\\big[-y^{(i)}\\, \\log\\,( h_\\theta\\,(x^{(i)}))-(1-y^{(i)})\\,\\log\\,(1-h_\\theta(x^{(i)}))\\big]$$\n",
    "\n",
    "$$ \\large J(\\theta) = \\frac{1}{m}\\sum_{i=1}^{m} Loss_{i}$$\n",
    "\n",
    "## Vectorized Cost Function\n",
    "\n",
    "$$ \\large J(\\theta) = -\\frac{1}{m}\\big((\\,\\log\\,(g(X\\theta))^Ty+(\\,\\log\\,(1-g(X\\theta))^T(1-y)\\big)$$"
   ]
  },
  {
   "cell_type": "code",
   "execution_count": 11,
   "metadata": {
    "ExecuteTime": {
     "end_time": "2020-05-21T09:50:25.348593Z",
     "start_time": "2020-05-21T09:50:25.344270Z"
    }
   },
   "outputs": [],
   "source": [
    "def costFunction(theta, X, y):\n",
    "    m = y.size\n",
    "    h = sigmoid(X.dot(theta))\n",
    "    \n",
    "    J = -1*(1/m)*(np.log(h).T.dot(y) + np.log(1-h).T.dot(1-y))\n",
    "               \n",
    "    if np.isnan(J[0]):\n",
    "        return(np.inf)\n",
    "    return(J[0])"
   ]
  },
  {
   "cell_type": "markdown",
   "metadata": {},
   "source": [
    "## Gradient Descent update rule\n",
    "\n",
    "$$ \\large \\theta_j = \\theta_j - \\alpha \\frac{\\partial J(\\theta)}{\\partial\\theta_{j}}$$\n",
    "\n",
    "## Partial derivative\n",
    "\n",
    "$$ \\large \\frac{\\partial J(\\theta)}{\\partial\\theta_{j}} = \\frac{1}{m}\\sum_{i=1}^{m} ( h_\\theta (x^{(i)})-y^{(i)})x^{(i)}_{j} $$ \n",
    "\n",
    "## Partial derivative vectorized\n",
    "\n",
    "$$ \\large \\frac{\\partial J(\\theta)}{\\partial\\theta_{j}} = \\frac{1}{m} X^T(g(X\\theta)-y)$$\n"
   ]
  },
  {
   "cell_type": "code",
   "execution_count": 12,
   "metadata": {
    "ExecuteTime": {
     "end_time": "2020-05-21T09:50:25.360710Z",
     "start_time": "2020-05-21T09:50:25.356232Z"
    }
   },
   "outputs": [],
   "source": [
    "def gradient(theta, X, y):\n",
    "    m = y.size\n",
    "    h = sigmoid(X.dot(theta.reshape(-1,1)))\n",
    "    \n",
    "    grad =(1/m)*X.T.dot(h-y)\n",
    "\n",
    "    return(grad.flatten())"
   ]
  },
  {
   "cell_type": "code",
   "execution_count": 13,
   "metadata": {
    "ExecuteTime": {
     "end_time": "2020-05-21T09:50:25.369069Z",
     "start_time": "2020-05-21T09:50:25.362916Z"
    }
   },
   "outputs": [
    {
     "name": "stdout",
     "output_type": "stream",
     "text": [
      "Cost: \n",
      " 0.6931471805599451\n",
      "Grad: \n",
      " [ -0.1        -12.00921659 -11.26284221]\n"
     ]
    }
   ],
   "source": [
    "initial_theta = np.zeros(X.shape[1])\n",
    "cost = costFunction(initial_theta, X, y)\n",
    "grad = gradient(initial_theta, X, y)\n",
    "print('Cost: \\n', cost)\n",
    "print('Grad: \\n', grad)"
   ]
  },
  {
   "cell_type": "code",
   "execution_count": 14,
   "metadata": {
    "ExecuteTime": {
     "end_time": "2020-05-21T09:50:25.378688Z",
     "start_time": "2020-05-21T09:50:25.371817Z"
    }
   },
   "outputs": [],
   "source": [
    "def gradientDescentVectorized(X, y, theta, alpha=0.01, num_iters=1500, early = False):\n",
    "    m = y.size\n",
    "    J_history = np.zeros(num_iters, dtype = 'float64')\n",
    "    \n",
    "    print(X.shape)\n",
    "    print(theta.shape)\n",
    "    \n",
    "    for iter in np.arange(num_iters):\n",
    "        h = sigmoid(X.dot(theta))\n",
    "\n",
    "        # ! simoultaneusly update all the parameters \n",
    "        # vectorized implementation\n",
    "        theta = theta - alpha*(1.0/m)*(X.T.dot(h-y))\n",
    "        #J_history[iter] = costFunction(X, y, theta)\n",
    "\n",
    "        # early stopping\n",
    "        #if (early == True) & (J_history[iter] == J_history[iter-1]):\n",
    "        #    break\n",
    "\n",
    "    return(theta.ravel())#, J_history[J_history != 0])"
   ]
  },
  {
   "cell_type": "code",
   "execution_count": 15,
   "metadata": {
    "ExecuteTime": {
     "end_time": "2020-05-21T09:50:25.385845Z",
     "start_time": "2020-05-21T09:50:25.381330Z"
    }
   },
   "outputs": [
    {
     "name": "stdout",
     "output_type": "stream",
     "text": [
      "(100, 3) (100, 1) (3, 1)\n"
     ]
    }
   ],
   "source": [
    "print(X.shape, y.shape, np.zeros(X.shape[1]).reshape(-1,1).shape)"
   ]
  },
  {
   "cell_type": "code",
   "execution_count": 17,
   "metadata": {
    "ExecuteTime": {
     "end_time": "2020-05-21T09:50:38.774717Z",
     "start_time": "2020-05-21T09:50:25.401508Z"
    }
   },
   "outputs": [
    {
     "name": "stdout",
     "output_type": "stream",
     "text": [
      "(100, 3)\n",
      "(3, 1)\n"
     ]
    }
   ],
   "source": [
    "theta_gd = gradientDescentVectorized(X, y, np.zeros(X.shape[1]).reshape(-1,1), alpha = 0.01, num_iters = 1000000, early = False)"
   ]
  },
  {
   "cell_type": "code",
   "execution_count": 18,
   "metadata": {
    "ExecuteTime": {
     "end_time": "2020-05-21T09:50:38.787565Z",
     "start_time": "2020-05-21T09:50:38.778396Z"
    }
   },
   "outputs": [
    {
     "data": {
      "text/plain": [
       "array([-59.18833634,   0.49709597,   0.48978704])"
      ]
     },
     "execution_count": 18,
     "metadata": {},
     "output_type": "execute_result"
    }
   ],
   "source": [
    "theta_gd"
   ]
  },
  {
   "cell_type": "markdown",
   "metadata": {},
   "source": [
    "## Optimize cost function"
   ]
  },
  {
   "cell_type": "code",
   "execution_count": 45,
   "metadata": {
    "ExecuteTime": {
     "end_time": "2020-05-21T10:00:37.128928Z",
     "start_time": "2020-05-21T10:00:37.125975Z"
    }
   },
   "outputs": [],
   "source": [
    "X_new = np.c_[X[:, 0], X[:, 1]**2, X[:, 2]] "
   ]
  },
  {
   "cell_type": "code",
   "execution_count": 46,
   "metadata": {
    "ExecuteTime": {
     "end_time": "2020-05-21T10:00:37.590775Z",
     "start_time": "2020-05-21T10:00:37.586212Z"
    }
   },
   "outputs": [
    {
     "data": {
      "text/plain": [
       "array([[1.00000000e+00, 1.19879781e+03, 7.80246928e+01],\n",
       "       [1.00000000e+00, 9.17284849e+02, 4.38949975e+01],\n",
       "       [1.00000000e+00, 1.28503672e+03, 7.29021980e+01],\n",
       "       [1.00000000e+00, 3.62194527e+03, 8.63085521e+01],\n",
       "       [1.00000000e+00, 6.24617337e+03, 7.53443764e+01]])"
      ]
     },
     "execution_count": 46,
     "metadata": {},
     "output_type": "execute_result"
    }
   ],
   "source": [
    "X_new[:5, :]"
   ]
  },
  {
   "cell_type": "code",
   "execution_count": 47,
   "metadata": {
    "ExecuteTime": {
     "end_time": "2020-05-21T10:00:50.958604Z",
     "start_time": "2020-05-21T10:00:50.955721Z"
    }
   },
   "outputs": [],
   "source": [
    "initial_theta = np.zeros(X_new.shape[1])"
   ]
  },
  {
   "cell_type": "code",
   "execution_count": 48,
   "metadata": {
    "ExecuteTime": {
     "end_time": "2020-05-21T10:00:51.565389Z",
     "start_time": "2020-05-21T10:00:51.557839Z"
    }
   },
   "outputs": [
    {
     "name": "stderr",
     "output_type": "stream",
     "text": [
      "/usr/local/lib/python3.6/site-packages/ipykernel_launcher.py:5: RuntimeWarning: divide by zero encountered in log\n",
      "  \"\"\"\n"
     ]
    }
   ],
   "source": [
    "res = minimize(costFunction, initial_theta, args = (X_new, y), method = 'SLSQP', jac = gradient, options = {'maxiter' : 1000})"
   ]
  },
  {
   "cell_type": "code",
   "execution_count": 49,
   "metadata": {
    "ExecuteTime": {
     "end_time": "2020-05-21T10:00:56.033771Z",
     "start_time": "2020-05-21T10:00:56.028702Z"
    }
   },
   "outputs": [
    {
     "data": {
      "text/plain": [
       "     fun: 0.25135773592951344\n",
       "     jac: array([-2.70901869e-06, -2.07142856e-03,  1.15818521e-03])\n",
       " message: 'Optimization terminated successfully.'\n",
       "    nfev: 26\n",
       "     nit: 15\n",
       "    njev: 15\n",
       "  status: 0\n",
       " success: True\n",
       "       x: array([-1.46788232e+01,  1.24384230e-03,  1.55448167e-01])"
      ]
     },
     "execution_count": 49,
     "metadata": {},
     "output_type": "execute_result"
    }
   ],
   "source": [
    "res"
   ]
  },
  {
   "cell_type": "code",
   "execution_count": 50,
   "metadata": {
    "ExecuteTime": {
     "end_time": "2020-05-21T10:00:56.508392Z",
     "start_time": "2020-05-21T10:00:56.505711Z"
    }
   },
   "outputs": [],
   "source": [
    "theta_opt = res.x.reshape(-1,1)"
   ]
  },
  {
   "cell_type": "markdown",
   "metadata": {},
   "source": [
    "## Predict"
   ]
  },
  {
   "cell_type": "code",
   "execution_count": 51,
   "metadata": {
    "ExecuteTime": {
     "end_time": "2020-05-21T10:00:57.808883Z",
     "start_time": "2020-05-21T10:00:57.805925Z"
    }
   },
   "outputs": [],
   "source": [
    "def predict(theta, X, threshold = 0.5):\n",
    "    p = sigmoid(X.dot(theta)) >= threshold\n",
    "    return(p.astype('int'))"
   ]
  },
  {
   "cell_type": "code",
   "execution_count": 52,
   "metadata": {
    "ExecuteTime": {
     "end_time": "2020-05-21T10:00:58.554369Z",
     "start_time": "2020-05-21T10:00:58.549179Z"
    }
   },
   "outputs": [
    {
     "name": "stdout",
     "output_type": "stream",
     "text": [
      "[[0]]\n",
      "[[0]]\n"
     ]
    }
   ],
   "source": [
    "p1 = predict(np.array(theta_opt).reshape(-1,1), np.array([1, 45, 85]).reshape(1,-1)) \n",
    "p2 = predict(np.array(theta_opt).reshape(-1,1), np.array([1, 45, 65]).reshape(1,-1)) \n",
    "\n",
    "print(p1)\n",
    "print(p2)\n",
    "#print('Train accuracy {}%'.format(100*sum(p == y.ravel())/p.size))"
   ]
  },
  {
   "cell_type": "markdown",
   "metadata": {},
   "source": [
    "## Decision boundary"
   ]
  },
  {
   "cell_type": "code",
   "execution_count": 53,
   "metadata": {
    "ExecuteTime": {
     "end_time": "2020-05-21T10:00:59.844664Z",
     "start_time": "2020-05-21T10:00:59.836171Z"
    }
   },
   "outputs": [
    {
     "data": {
      "text/plain": [
       "array([[ 1.        , 34.62365962, 78.02469282],\n",
       "       [ 1.        , 30.28671077, 43.89499752],\n",
       "       [ 1.        , 35.84740877, 72.90219803],\n",
       "       [ 1.        , 60.18259939, 86.3085521 ],\n",
       "       [ 1.        , 79.03273605, 75.34437644],\n",
       "       [ 1.        , 45.08327748, 56.31637178],\n",
       "       [ 1.        , 61.10666454, 96.51142588],\n",
       "       [ 1.        , 75.02474557, 46.55401354],\n",
       "       [ 1.        , 76.0987867 , 87.42056972],\n",
       "       [ 1.        , 84.43281996, 43.53339331],\n",
       "       [ 1.        , 95.86155507, 38.22527806],\n",
       "       [ 1.        , 75.01365839, 30.60326323],\n",
       "       [ 1.        , 82.30705337, 76.4819633 ],\n",
       "       [ 1.        , 69.36458876, 97.71869196],\n",
       "       [ 1.        , 39.53833914, 76.03681085],\n",
       "       [ 1.        , 53.97105215, 89.20735014],\n",
       "       [ 1.        , 69.07014406, 52.74046973],\n",
       "       [ 1.        , 67.94685548, 46.67857411],\n",
       "       [ 1.        , 70.66150955, 92.92713789],\n",
       "       [ 1.        , 76.97878373, 47.57596365],\n",
       "       [ 1.        , 67.37202755, 42.83843832],\n",
       "       [ 1.        , 89.67677575, 65.79936593],\n",
       "       [ 1.        , 50.53478829, 48.85581153],\n",
       "       [ 1.        , 34.21206098, 44.2095286 ],\n",
       "       [ 1.        , 77.92409145, 68.97235999],\n",
       "       [ 1.        , 62.27101367, 69.95445795],\n",
       "       [ 1.        , 80.19018075, 44.82162893],\n",
       "       [ 1.        , 93.1143888 , 38.80067034],\n",
       "       [ 1.        , 61.83020602, 50.25610789],\n",
       "       [ 1.        , 38.7858038 , 64.99568096],\n",
       "       [ 1.        , 61.37928945, 72.80788731],\n",
       "       [ 1.        , 85.40451939, 57.05198398],\n",
       "       [ 1.        , 52.10797973, 63.12762377],\n",
       "       [ 1.        , 52.04540477, 69.43286012],\n",
       "       [ 1.        , 40.23689374, 71.16774802],\n",
       "       [ 1.        , 54.63510555, 52.21388588],\n",
       "       [ 1.        , 33.91550011, 98.86943574],\n",
       "       [ 1.        , 64.17698887, 80.90806059],\n",
       "       [ 1.        , 74.78925296, 41.57341523],\n",
       "       [ 1.        , 34.18364003, 75.23772034],\n",
       "       [ 1.        , 83.90239366, 56.30804622],\n",
       "       [ 1.        , 51.54772027, 46.85629026],\n",
       "       [ 1.        , 94.44336777, 65.56892161],\n",
       "       [ 1.        , 82.36875376, 40.61825516],\n",
       "       [ 1.        , 51.04775177, 45.82270146],\n",
       "       [ 1.        , 62.22267576, 52.06099195],\n",
       "       [ 1.        , 77.19303493, 70.4582    ],\n",
       "       [ 1.        , 97.77159928, 86.72782233],\n",
       "       [ 1.        , 62.0730638 , 96.76882412],\n",
       "       [ 1.        , 91.5649745 , 88.69629255],\n",
       "       [ 1.        , 79.94481794, 74.16311935],\n",
       "       [ 1.        , 99.27252693, 60.999031  ],\n",
       "       [ 1.        , 90.54671411, 43.39060181],\n",
       "       [ 1.        , 34.52451385, 60.39634246],\n",
       "       [ 1.        , 50.28649612, 49.80453881],\n",
       "       [ 1.        , 49.58667722, 59.80895099],\n",
       "       [ 1.        , 97.64563396, 68.86157272],\n",
       "       [ 1.        , 32.57720017, 95.59854761],\n",
       "       [ 1.        , 74.24869137, 69.82457123],\n",
       "       [ 1.        , 71.79646206, 78.45356225],\n",
       "       [ 1.        , 75.39561147, 85.75993667],\n",
       "       [ 1.        , 35.28611282, 47.02051395],\n",
       "       [ 1.        , 56.2538175 , 39.26147251],\n",
       "       [ 1.        , 30.05882245, 49.59297387],\n",
       "       [ 1.        , 44.66826172, 66.45008615],\n",
       "       [ 1.        , 66.56089447, 41.09209808],\n",
       "       [ 1.        , 40.45755098, 97.53518549],\n",
       "       [ 1.        , 49.07256322, 51.88321182],\n",
       "       [ 1.        , 80.27957401, 92.11606081],\n",
       "       [ 1.        , 66.74671857, 60.99139403],\n",
       "       [ 1.        , 32.72283304, 43.30717306],\n",
       "       [ 1.        , 64.03932042, 78.03168802],\n",
       "       [ 1.        , 72.34649423, 96.22759297],\n",
       "       [ 1.        , 60.45788574, 73.0949981 ],\n",
       "       [ 1.        , 58.84095622, 75.85844831],\n",
       "       [ 1.        , 99.8278578 , 72.36925193],\n",
       "       [ 1.        , 47.26426911, 88.475865  ],\n",
       "       [ 1.        , 50.4581598 , 75.80985953],\n",
       "       [ 1.        , 60.45555629, 42.50840944],\n",
       "       [ 1.        , 82.22666158, 42.71987854],\n",
       "       [ 1.        , 88.91389642, 69.8037889 ],\n",
       "       [ 1.        , 94.83450672, 45.6943068 ],\n",
       "       [ 1.        , 67.31925747, 66.58935318],\n",
       "       [ 1.        , 57.23870632, 59.51428198],\n",
       "       [ 1.        , 80.366756  , 90.9601479 ],\n",
       "       [ 1.        , 68.46852179, 85.5943071 ],\n",
       "       [ 1.        , 42.07545454, 78.844786  ],\n",
       "       [ 1.        , 75.47770201, 90.424539  ],\n",
       "       [ 1.        , 78.63542435, 96.64742717],\n",
       "       [ 1.        , 52.34800399, 60.76950526],\n",
       "       [ 1.        , 94.09433113, 77.15910509],\n",
       "       [ 1.        , 90.44855097, 87.50879176],\n",
       "       [ 1.        , 55.48216114, 35.57070347],\n",
       "       [ 1.        , 74.49269242, 84.84513685],\n",
       "       [ 1.        , 89.84580671, 45.35828361],\n",
       "       [ 1.        , 83.48916274, 48.3802858 ],\n",
       "       [ 1.        , 42.26170081, 87.10385094],\n",
       "       [ 1.        , 99.31500881, 68.77540947],\n",
       "       [ 1.        , 55.34001756, 64.93193801],\n",
       "       [ 1.        , 74.775893  , 89.5298129 ]])"
      ]
     },
     "execution_count": 53,
     "metadata": {},
     "output_type": "execute_result"
    }
   ],
   "source": [
    "X"
   ]
  },
  {
   "cell_type": "code",
   "execution_count": 54,
   "metadata": {
    "ExecuteTime": {
     "end_time": "2020-05-21T10:01:01.187863Z",
     "start_time": "2020-05-21T10:01:00.826032Z"
    }
   },
   "outputs": [
    {
     "data": {
      "image/png": "[encoded data removed]",
      "text/plain": [
       "<Figure size 1080x720 with 1 Axes>"
      ]
     },
     "metadata": {},
     "output_type": "display_data"
    }
   ],
   "source": [
    "plt.figure(figsize = (15,10))\n",
    "#plt.scatter(45, 85, s=60, c='r', marker='v', label='(45, 85)')\n",
    "plotData(data, 'Exam 1 score', 'Exam 2 score', 'Admitted', 'Not admitted')\n",
    "\n",
    "x1_min, x1_max = X[:,1].min(), X[:,1].max()\n",
    "x2_min, x2_max = X[:,2].min(), X[:,2].max()\n",
    "\n",
    "xx1, xx2 = np.meshgrid(np.linspace(x1_min, x1_max), np.linspace(x2_min, x2_max))\n",
    "\n",
    "#h = sigmoid(np.c_[np.ones((xx1.ravel().shape[0],1)), xx1.ravel(), xx2.ravel()].dot(theta_opt))\n",
    "h = np.c_[np.ones((xx1.ravel().shape[0],1)), xx1.ravel(), xx2.ravel()].dot(theta_opt)\n",
    "h = h.reshape(xx1.shape)\n",
    "plt.contour(xx1, xx2, h, [0.5], linewidths=1, colors='b')\n",
    "plt.show()"
   ]
  },
  {
   "cell_type": "markdown",
   "metadata": {},
   "source": [
    "## Regularized logistic regression"
   ]
  },
  {
   "cell_type": "code",
   "execution_count": null,
   "metadata": {
    "ExecuteTime": {
     "end_time": "2020-05-21T09:50:39.121226Z",
     "start_time": "2020-05-21T09:50:22.700Z"
    }
   },
   "outputs": [],
   "source": [
    "data2 = loaddata('data/ex2data2.txt', ',')"
   ]
  },
  {
   "cell_type": "code",
   "execution_count": null,
   "metadata": {
    "ExecuteTime": {
     "end_time": "2020-05-21T09:50:39.122133Z",
     "start_time": "2020-05-21T09:50:22.702Z"
    }
   },
   "outputs": [],
   "source": [
    "y = np.c_[data2[:,2]]\n",
    "X = data2[:,0:2]"
   ]
  },
  {
   "cell_type": "code",
   "execution_count": null,
   "metadata": {
    "ExecuteTime": {
     "end_time": "2020-05-21T09:50:39.124051Z",
     "start_time": "2020-05-21T09:50:22.704Z"
    }
   },
   "outputs": [],
   "source": [
    "plotData(data2, 'Microchip Test 1', 'Microchip Test 2', 'y = 1', 'y = 0')"
   ]
  },
  {
   "cell_type": "markdown",
   "metadata": {},
   "source": [
    "#### Polynomials"
   ]
  },
  {
   "cell_type": "code",
   "execution_count": null,
   "metadata": {
    "ExecuteTime": {
     "end_time": "2020-05-21T09:50:39.126138Z",
     "start_time": "2020-05-21T09:50:22.706Z"
    }
   },
   "outputs": [],
   "source": [
    "# Note that this function inserts a column with 'ones' in the design matrix for the intercept.\n",
    "poly = PolynomialFeatures(6)\n",
    "XX = poly.fit_transform(data2[:,0:2])\n",
    "XX.shape"
   ]
  },
  {
   "cell_type": "markdown",
   "metadata": {},
   "source": [
    "#### Regularized Cost Function\n",
    "#### $$ \\large J(\\theta) = \\frac{1}{m}\\sum_{i=1}^{m}\\big[-y^{(i)}\\, log\\,( h_\\theta\\,(x^{(i)}))-(1-y^{(i)})\\,log\\,(1-h_\\theta(x^{(i)}))\\big] + \\frac{\\lambda}{2m}\\sum_{j=1}^{n}\\theta_{j}^{2}$$\n",
    "#### Vectorized Cost Function\n",
    "#### $$ \\large J(\\theta) = -\\frac{1}{m}\\big((\\,log\\,(g(X\\theta))^Ty+(\\,log\\,(1-g(X\\theta))^T(1-y)\\big) + \\frac{\\lambda}{2m}\\theta^T\\theta$$"
   ]
  },
  {
   "cell_type": "code",
   "execution_count": null,
   "metadata": {
    "ExecuteTime": {
     "end_time": "2020-05-21T09:50:39.127583Z",
     "start_time": "2020-05-21T09:50:22.708Z"
    }
   },
   "outputs": [],
   "source": [
    "def costFunctionReg(theta, reg, *args):\n",
    "    m = y.size\n",
    "    h = sigmoid(XX.dot(theta))\n",
    "    \n",
    "    J = -1*(1/m)*(np.log(h).T.dot(y)+np.log(1-h).T.dot(1-y)) + (reg/(2*m))*np.sum(np.square(theta[1:]))\n",
    "    \n",
    "    if np.isnan(J[0]):\n",
    "        return(np.inf)\n",
    "    return(J[0])"
   ]
  },
  {
   "cell_type": "markdown",
   "metadata": {},
   "source": [
    "#### Partial derivative\n",
    "\n",
    "#### $$ \\large \\frac{\\partial J(\\theta)}{\\partial\\theta_{j}} = \\frac{1}{m}\\sum_{i=1}^{m} ( h_\\theta (x^{(i)})-y^{(i)})x^{(i)}_{j} + \\frac{\\lambda}{m}\\theta_{j}$$ \n",
    "#### Vectorized\n",
    "#### $$ \\large \\frac{\\partial J(\\theta)}{\\partial\\theta_{j}} = \\frac{1}{m} X^T(g(X\\theta)-y) + \\frac{\\lambda}{m}\\theta_{j}$$\n",
    "##### $$\\text{Note: intercept parameter } \\theta_{0} \\text{ is not to be regularized}$$"
   ]
  },
  {
   "cell_type": "code",
   "execution_count": null,
   "metadata": {
    "ExecuteTime": {
     "end_time": "2020-05-21T09:50:39.128812Z",
     "start_time": "2020-05-21T09:50:22.711Z"
    }
   },
   "outputs": [],
   "source": [
    "def gradientReg(theta, reg, *args):\n",
    "    m = y.size\n",
    "    h = sigmoid(XX.dot(theta.reshape(-1,1)))\n",
    "      \n",
    "    grad = (1/m)*XX.T.dot(h-y) + (reg/m)*np.r_[[[0]],theta[1:].reshape(-1,1)]\n",
    "        \n",
    "    return(grad.flatten())"
   ]
  },
  {
   "cell_type": "code",
   "execution_count": null,
   "metadata": {
    "ExecuteTime": {
     "end_time": "2020-05-21T09:50:39.130023Z",
     "start_time": "2020-05-21T09:50:22.713Z"
    }
   },
   "outputs": [],
   "source": [
    "initial_theta = np.zeros(XX.shape[1])\n",
    "costFunctionReg(initial_theta, 1, XX, y)"
   ]
  },
  {
   "cell_type": "code",
   "execution_count": null,
   "metadata": {
    "ExecuteTime": {
     "end_time": "2020-05-21T09:50:39.131548Z",
     "start_time": "2020-05-21T09:50:22.715Z"
    }
   },
   "outputs": [],
   "source": [
    "fig, axes = plt.subplots(1,3, sharey = True, figsize=(17,5))\n",
    "\n",
    "# Decision boundaries\n",
    "# Lambda = 0 : No regularization --> too flexible, overfitting the training data\n",
    "# Lambda = 1 : Looks about right\n",
    "# Lambda = 100 : Too much regularization --> high bias\n",
    "\n",
    "for i, C in enumerate([0, 1, 100]):\n",
    "    # Optimized costFunctionReg\n",
    "    res2 = minimize(costFunctionReg, initial_theta, args=(C, XX, y), method=None, jac=gradientReg, options={'maxiter':3000})\n",
    "    \n",
    "    # Accuracy\n",
    "    accuracy = 100*sum(predict(res2.x, XX) == y.ravel())/y.size    \n",
    "\n",
    "    # Scatter plot of X,y\n",
    "    plotData(data2, 'Microchip Test 1', 'Microchip Test 2', 'y = 1', 'y = 0', axes.flatten()[i])\n",
    "    \n",
    "    # Plot decisionboundary\n",
    "    x1_min, x1_max = X[:,0].min(), X[:,0].max(),\n",
    "    x2_min, x2_max = X[:,1].min(), X[:,1].max(),\n",
    "    xx1, xx2 = np.meshgrid(np.linspace(x1_min, x1_max), np.linspace(x2_min, x2_max))\n",
    "    h = sigmoid(poly.fit_transform(np.c_[xx1.ravel(), xx2.ravel()]).dot(res2.x))\n",
    "    h = h.reshape(xx1.shape)\n",
    "    axes.flatten()[i].contour(xx1, xx2, h, [0.5], linewidths=1, colors='g')       \n",
    "    axes.flatten()[i].set_title('Train accuracy {}% with Lambda = {}'.format(np.round(accuracy, decimals=2), C))"
   ]
  }
 ],
 "metadata": {
  "kernelspec": {
   "display_name": "Python 3",
   "language": "python",
   "name": "python3"
  },
  "language_info": {
   "codemirror_mode": {
    "name": "ipython",
    "version": 3
   },
   "file_extension": ".py",
   "mimetype": "text/x-python",
   "name": "python",
   "nbconvert_exporter": "python",
   "pygments_lexer": "ipython3",
   "version": "3.7.7"
  },
  "toc": {
   "base_numbering": 1,
   "nav_menu": {},
   "number_sections": true,
   "sideBar": true,
   "skip_h1_title": false,
   "title_cell": "Table of Contents",
   "title_sidebar": "Contents",
   "toc_cell": false,
   "toc_position": {},
   "toc_section_display": true,
   "toc_window_display": false
  },
  "varInspector": {
   "cols": {
    "lenName": 16,
    "lenType": 16,
    "lenVar": 40
   },
   "kernels_config": {
    "python": {
     "delete_cmd_postfix": "",
     "delete_cmd_prefix": "del ",
     "library": "var_list.py",
     "varRefreshCmd": "print(var_dic_list())"
    },
    "r": {
     "delete_cmd_postfix": ") ",
     "delete_cmd_prefix": "rm(",
     "library": "var_list.r",
     "varRefreshCmd": "cat(var_dic_list()) "
    }
   },
   "types_to_exclude": [
    "module",
    "function",
    "builtin_function_or_method",
    "instance",
    "_Feature"
   ],
   "window_display": false
  }
 },
 "nbformat": 4,
 "nbformat_minor": 4
}
